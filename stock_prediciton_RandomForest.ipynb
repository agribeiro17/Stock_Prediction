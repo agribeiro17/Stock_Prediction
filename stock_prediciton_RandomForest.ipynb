{
 "cells": [
  {
   "cell_type": "markdown",
   "id": "2fcb1f34",
   "metadata": {},
   "source": [
    "# OPTIVER - TRADING AT THE CLOSE"
   ]
  },
  {
   "cell_type": "markdown",
   "id": "81772fd2",
   "metadata": {},
   "source": [
    "## Import Libraries"
   ]
  },
  {
   "cell_type": "code",
   "execution_count": 2,
   "id": "0b919869",
   "metadata": {},
   "outputs": [],
   "source": [
    "from sklearn.model_selection import train_test_split\n",
    "from sklearn.ensemble import RandomForestRegressor\n",
    "from sklearn import metrics\n",
    "import pandas as pd\n",
    "import numpy as np\n",
    "import matplotlib.pyplot as plt\n",
    "import seaborn as sns\n",
    "%matplotlib inline"
   ]
  },
  {
   "cell_type": "markdown",
   "id": "11f4992d",
   "metadata": {},
   "source": [
    "## Insert Data + Read Data"
   ]
  },
  {
   "cell_type": "code",
   "execution_count": 3,
   "id": "c71346fc",
   "metadata": {
    "scrolled": true
   },
   "outputs": [
    {
     "data": {
      "text/html": [
       "<div>\n",
       "<style scoped>\n",
       "    .dataframe tbody tr th:only-of-type {\n",
       "        vertical-align: middle;\n",
       "    }\n",
       "\n",
       "    .dataframe tbody tr th {\n",
       "        vertical-align: top;\n",
       "    }\n",
       "\n",
       "    .dataframe thead th {\n",
       "        text-align: right;\n",
       "    }\n",
       "</style>\n",
       "<table border=\"1\" class=\"dataframe\">\n",
       "  <thead>\n",
       "    <tr style=\"text-align: right;\">\n",
       "      <th></th>\n",
       "      <th>stock_id</th>\n",
       "      <th>date_id</th>\n",
       "      <th>seconds_in_bucket</th>\n",
       "      <th>imbalance_size</th>\n",
       "      <th>imbalance_buy_sell_flag</th>\n",
       "      <th>reference_price</th>\n",
       "      <th>matched_size</th>\n",
       "      <th>far_price</th>\n",
       "      <th>near_price</th>\n",
       "      <th>bid_price</th>\n",
       "      <th>bid_size</th>\n",
       "      <th>ask_price</th>\n",
       "      <th>ask_size</th>\n",
       "      <th>wap</th>\n",
       "      <th>target</th>\n",
       "      <th>time_id</th>\n",
       "    </tr>\n",
       "  </thead>\n",
       "  <tbody>\n",
       "    <tr>\n",
       "      <th>count</th>\n",
       "      <td>5.237980e+06</td>\n",
       "      <td>5.237980e+06</td>\n",
       "      <td>5.237980e+06</td>\n",
       "      <td>5.237760e+06</td>\n",
       "      <td>5.237980e+06</td>\n",
       "      <td>5.237760e+06</td>\n",
       "      <td>5.237760e+06</td>\n",
       "      <td>2.343638e+06</td>\n",
       "      <td>2.380800e+06</td>\n",
       "      <td>5.237760e+06</td>\n",
       "      <td>5.237980e+06</td>\n",
       "      <td>5.237760e+06</td>\n",
       "      <td>5.237980e+06</td>\n",
       "      <td>5.237760e+06</td>\n",
       "      <td>5.237892e+06</td>\n",
       "      <td>5.237980e+06</td>\n",
       "    </tr>\n",
       "    <tr>\n",
       "      <th>mean</th>\n",
       "      <td>9.928856e+01</td>\n",
       "      <td>2.415100e+02</td>\n",
       "      <td>2.700000e+02</td>\n",
       "      <td>5.715293e+06</td>\n",
       "      <td>-1.189619e-02</td>\n",
       "      <td>9.999955e-01</td>\n",
       "      <td>4.510025e+07</td>\n",
       "      <td>1.001713e+00</td>\n",
       "      <td>9.996601e-01</td>\n",
       "      <td>9.997263e-01</td>\n",
       "      <td>5.181359e+04</td>\n",
       "      <td>1.000264e+00</td>\n",
       "      <td>5.357568e+04</td>\n",
       "      <td>9.999920e-01</td>\n",
       "      <td>-4.756125e-02</td>\n",
       "      <td>1.331005e+04</td>\n",
       "    </tr>\n",
       "    <tr>\n",
       "      <th>std</th>\n",
       "      <td>5.787176e+01</td>\n",
       "      <td>1.385319e+02</td>\n",
       "      <td>1.587451e+02</td>\n",
       "      <td>2.051591e+07</td>\n",
       "      <td>8.853374e-01</td>\n",
       "      <td>2.532497e-03</td>\n",
       "      <td>1.398413e+08</td>\n",
       "      <td>7.214705e-01</td>\n",
       "      <td>1.216920e-02</td>\n",
       "      <td>2.499345e-03</td>\n",
       "      <td>1.114214e+05</td>\n",
       "      <td>2.510042e-03</td>\n",
       "      <td>1.293554e+05</td>\n",
       "      <td>2.497509e-03</td>\n",
       "      <td>9.452860e+00</td>\n",
       "      <td>7.619271e+03</td>\n",
       "    </tr>\n",
       "    <tr>\n",
       "      <th>min</th>\n",
       "      <td>0.000000e+00</td>\n",
       "      <td>0.000000e+00</td>\n",
       "      <td>0.000000e+00</td>\n",
       "      <td>0.000000e+00</td>\n",
       "      <td>-1.000000e+00</td>\n",
       "      <td>9.352850e-01</td>\n",
       "      <td>4.316610e+03</td>\n",
       "      <td>7.700000e-05</td>\n",
       "      <td>7.869880e-01</td>\n",
       "      <td>9.349150e-01</td>\n",
       "      <td>0.000000e+00</td>\n",
       "      <td>9.398270e-01</td>\n",
       "      <td>0.000000e+00</td>\n",
       "      <td>9.380080e-01</td>\n",
       "      <td>-3.852898e+02</td>\n",
       "      <td>0.000000e+00</td>\n",
       "    </tr>\n",
       "    <tr>\n",
       "      <th>25%</th>\n",
       "      <td>4.900000e+01</td>\n",
       "      <td>1.220000e+02</td>\n",
       "      <td>1.300000e+02</td>\n",
       "      <td>8.453415e+04</td>\n",
       "      <td>-1.000000e+00</td>\n",
       "      <td>9.987630e-01</td>\n",
       "      <td>5.279575e+06</td>\n",
       "      <td>9.963320e-01</td>\n",
       "      <td>9.971000e-01</td>\n",
       "      <td>9.985290e-01</td>\n",
       "      <td>7.374720e+03</td>\n",
       "      <td>9.990290e-01</td>\n",
       "      <td>7.823700e+03</td>\n",
       "      <td>9.987810e-01</td>\n",
       "      <td>-4.559755e+00</td>\n",
       "      <td>6.729000e+03</td>\n",
       "    </tr>\n",
       "    <tr>\n",
       "      <th>50%</th>\n",
       "      <td>9.900000e+01</td>\n",
       "      <td>2.420000e+02</td>\n",
       "      <td>2.700000e+02</td>\n",
       "      <td>1.113604e+06</td>\n",
       "      <td>0.000000e+00</td>\n",
       "      <td>9.999670e-01</td>\n",
       "      <td>1.288264e+07</td>\n",
       "      <td>9.998830e-01</td>\n",
       "      <td>9.998890e-01</td>\n",
       "      <td>9.997280e-01</td>\n",
       "      <td>2.196900e+04</td>\n",
       "      <td>1.000207e+00</td>\n",
       "      <td>2.301792e+04</td>\n",
       "      <td>9.999970e-01</td>\n",
       "      <td>-6.020069e-02</td>\n",
       "      <td>1.334500e+04</td>\n",
       "    </tr>\n",
       "    <tr>\n",
       "      <th>75%</th>\n",
       "      <td>1.490000e+02</td>\n",
       "      <td>3.610000e+02</td>\n",
       "      <td>4.100000e+02</td>\n",
       "      <td>4.190951e+06</td>\n",
       "      <td>1.000000e+00</td>\n",
       "      <td>1.001174e+00</td>\n",
       "      <td>3.270013e+07</td>\n",
       "      <td>1.003318e+00</td>\n",
       "      <td>1.002590e+00</td>\n",
       "      <td>1.000905e+00</td>\n",
       "      <td>5.583168e+04</td>\n",
       "      <td>1.001414e+00</td>\n",
       "      <td>5.787841e+04</td>\n",
       "      <td>1.001149e+00</td>\n",
       "      <td>4.409552e+00</td>\n",
       "      <td>1.990700e+04</td>\n",
       "    </tr>\n",
       "    <tr>\n",
       "      <th>max</th>\n",
       "      <td>1.990000e+02</td>\n",
       "      <td>4.800000e+02</td>\n",
       "      <td>5.400000e+02</td>\n",
       "      <td>2.982028e+09</td>\n",
       "      <td>1.000000e+00</td>\n",
       "      <td>1.077488e+00</td>\n",
       "      <td>7.713682e+09</td>\n",
       "      <td>4.379531e+02</td>\n",
       "      <td>1.309732e+00</td>\n",
       "      <td>1.077488e+00</td>\n",
       "      <td>3.028784e+07</td>\n",
       "      <td>1.077836e+00</td>\n",
       "      <td>5.440500e+07</td>\n",
       "      <td>1.077675e+00</td>\n",
       "      <td>4.460704e+02</td>\n",
       "      <td>2.645400e+04</td>\n",
       "    </tr>\n",
       "  </tbody>\n",
       "</table>\n",
       "</div>"
      ],
      "text/plain": [
       "           stock_id       date_id  seconds_in_bucket  imbalance_size  \\\n",
       "count  5.237980e+06  5.237980e+06       5.237980e+06    5.237760e+06   \n",
       "mean   9.928856e+01  2.415100e+02       2.700000e+02    5.715293e+06   \n",
       "std    5.787176e+01  1.385319e+02       1.587451e+02    2.051591e+07   \n",
       "min    0.000000e+00  0.000000e+00       0.000000e+00    0.000000e+00   \n",
       "25%    4.900000e+01  1.220000e+02       1.300000e+02    8.453415e+04   \n",
       "50%    9.900000e+01  2.420000e+02       2.700000e+02    1.113604e+06   \n",
       "75%    1.490000e+02  3.610000e+02       4.100000e+02    4.190951e+06   \n",
       "max    1.990000e+02  4.800000e+02       5.400000e+02    2.982028e+09   \n",
       "\n",
       "       imbalance_buy_sell_flag  reference_price  matched_size     far_price  \\\n",
       "count             5.237980e+06     5.237760e+06  5.237760e+06  2.343638e+06   \n",
       "mean             -1.189619e-02     9.999955e-01  4.510025e+07  1.001713e+00   \n",
       "std               8.853374e-01     2.532497e-03  1.398413e+08  7.214705e-01   \n",
       "min              -1.000000e+00     9.352850e-01  4.316610e+03  7.700000e-05   \n",
       "25%              -1.000000e+00     9.987630e-01  5.279575e+06  9.963320e-01   \n",
       "50%               0.000000e+00     9.999670e-01  1.288264e+07  9.998830e-01   \n",
       "75%               1.000000e+00     1.001174e+00  3.270013e+07  1.003318e+00   \n",
       "max               1.000000e+00     1.077488e+00  7.713682e+09  4.379531e+02   \n",
       "\n",
       "         near_price     bid_price      bid_size     ask_price      ask_size  \\\n",
       "count  2.380800e+06  5.237760e+06  5.237980e+06  5.237760e+06  5.237980e+06   \n",
       "mean   9.996601e-01  9.997263e-01  5.181359e+04  1.000264e+00  5.357568e+04   \n",
       "std    1.216920e-02  2.499345e-03  1.114214e+05  2.510042e-03  1.293554e+05   \n",
       "min    7.869880e-01  9.349150e-01  0.000000e+00  9.398270e-01  0.000000e+00   \n",
       "25%    9.971000e-01  9.985290e-01  7.374720e+03  9.990290e-01  7.823700e+03   \n",
       "50%    9.998890e-01  9.997280e-01  2.196900e+04  1.000207e+00  2.301792e+04   \n",
       "75%    1.002590e+00  1.000905e+00  5.583168e+04  1.001414e+00  5.787841e+04   \n",
       "max    1.309732e+00  1.077488e+00  3.028784e+07  1.077836e+00  5.440500e+07   \n",
       "\n",
       "                wap        target       time_id  \n",
       "count  5.237760e+06  5.237892e+06  5.237980e+06  \n",
       "mean   9.999920e-01 -4.756125e-02  1.331005e+04  \n",
       "std    2.497509e-03  9.452860e+00  7.619271e+03  \n",
       "min    9.380080e-01 -3.852898e+02  0.000000e+00  \n",
       "25%    9.987810e-01 -4.559755e+00  6.729000e+03  \n",
       "50%    9.999970e-01 -6.020069e-02  1.334500e+04  \n",
       "75%    1.001149e+00  4.409552e+00  1.990700e+04  \n",
       "max    1.077675e+00  4.460704e+02  2.645400e+04  "
      ]
     },
     "execution_count": 3,
     "metadata": {},
     "output_type": "execute_result"
    }
   ],
   "source": [
    "df_train = pd.read_csv('train.csv')\n",
    "df_train.describe()"
   ]
  },
  {
   "cell_type": "code",
   "execution_count": 4,
   "id": "f2042c00",
   "metadata": {},
   "outputs": [
    {
     "data": {
      "text/html": [
       "<div>\n",
       "<style scoped>\n",
       "    .dataframe tbody tr th:only-of-type {\n",
       "        vertical-align: middle;\n",
       "    }\n",
       "\n",
       "    .dataframe tbody tr th {\n",
       "        vertical-align: top;\n",
       "    }\n",
       "\n",
       "    .dataframe thead th {\n",
       "        text-align: right;\n",
       "    }\n",
       "</style>\n",
       "<table border=\"1\" class=\"dataframe\">\n",
       "  <thead>\n",
       "    <tr style=\"text-align: right;\">\n",
       "      <th></th>\n",
       "      <th>stock_id</th>\n",
       "      <th>date_id</th>\n",
       "      <th>seconds_in_bucket</th>\n",
       "      <th>target</th>\n",
       "    </tr>\n",
       "  </thead>\n",
       "  <tbody>\n",
       "    <tr>\n",
       "      <th>0</th>\n",
       "      <td>0</td>\n",
       "      <td>0</td>\n",
       "      <td>0</td>\n",
       "      <td>-3.029704</td>\n",
       "    </tr>\n",
       "    <tr>\n",
       "      <th>1</th>\n",
       "      <td>1</td>\n",
       "      <td>0</td>\n",
       "      <td>0</td>\n",
       "      <td>-5.519986</td>\n",
       "    </tr>\n",
       "    <tr>\n",
       "      <th>2</th>\n",
       "      <td>2</td>\n",
       "      <td>0</td>\n",
       "      <td>0</td>\n",
       "      <td>-8.389950</td>\n",
       "    </tr>\n",
       "    <tr>\n",
       "      <th>3</th>\n",
       "      <td>3</td>\n",
       "      <td>0</td>\n",
       "      <td>0</td>\n",
       "      <td>-4.010200</td>\n",
       "    </tr>\n",
       "    <tr>\n",
       "      <th>4</th>\n",
       "      <td>4</td>\n",
       "      <td>0</td>\n",
       "      <td>0</td>\n",
       "      <td>-7.349849</td>\n",
       "    </tr>\n",
       "  </tbody>\n",
       "</table>\n",
       "</div>"
      ],
      "text/plain": [
       "   stock_id  date_id  seconds_in_bucket    target\n",
       "0         0        0                  0 -3.029704\n",
       "1         1        0                  0 -5.519986\n",
       "2         2        0                  0 -8.389950\n",
       "3         3        0                  0 -4.010200\n",
       "4         4        0                  0 -7.349849"
      ]
     },
     "execution_count": 4,
     "metadata": {},
     "output_type": "execute_result"
    }
   ],
   "source": [
    "df_train = df_train[[\"stock_id\", \"date_id\", \"seconds_in_bucket\", \"target\"]]\n",
    "df_train.head()"
   ]
  },
  {
   "cell_type": "markdown",
   "id": "39490aa7",
   "metadata": {},
   "source": [
    "## Target before Training"
   ]
  },
  {
   "cell_type": "code",
   "execution_count": 5,
   "id": "0271d9da",
   "metadata": {},
   "outputs": [
    {
     "data": {
      "text/plain": [
       "<AxesSubplot:>"
      ]
     },
     "execution_count": 5,
     "metadata": {},
     "output_type": "execute_result"
    },
    {
     "data": {
      "image/png": "[encoded data removed]",
      "text/plain": [
       "<Figure size 432x288 with 1 Axes>"
      ]
     },
     "metadata": {
      "needs_background": "light"
     },
     "output_type": "display_data"
    }
   ],
   "source": [
    "df_train.head(400)['target'].plot()"
   ]
  },
  {
   "cell_type": "markdown",
   "id": "d9366f12",
   "metadata": {},
   "source": [
    "## Configuration Parameters"
   ]
  },
  {
   "cell_type": "code",
   "execution_count": 6,
   "id": "7ea410dd",
   "metadata": {},
   "outputs": [],
   "source": [
    "SEED = 42\n",
    "\n",
    "N_LAGS = 55 # number of time lags used in the time series analysis.\n",
    "\n",
    "BATCH_SIZE = 32\n",
    "BUFFER_SIZE = 100000 # used for shuffling the data during training\n",
    "EPOCHS = 100\n",
    "PATIENCE = 25 # used as a parameter in early stopping\n",
    "LEARNING_RATE = 1e-4\n",
    "\n",
    "SPLIT_DAY = 390 # day on which the dataset is split into training and validation sets. \n",
    "\n",
    "# parameters define the size of the dataset, specifying the number of stocks, dates, and seconds\n",
    "N_STOCKS = 200\n",
    "N_DATES = 481\n",
    "N_SECONDS = 55\n",
    "\n",
    "RUN_TRAINING = True # A boolean flag indicating whether to run the training process. If set to True, the model training code will be executed."
   ]
  },
  {
   "cell_type": "markdown",
   "id": "e31e9848",
   "metadata": {},
   "source": [
    "## Creating Index Combinations"
   ]
  },
  {
   "cell_type": "code",
   "execution_count": 7,
   "id": "b6a5af5a",
   "metadata": {},
   "outputs": [],
   "source": [
    "# creating a lists of unique identifiers for stocks, dates, and seconds\n",
    "\n",
    "all_stock_ids = range(N_STOCKS) # generates stock IDs\n",
    "all_date_ids = range(N_DATES) # generates date IDs\n",
    "all_seconds = [i * 10 for i in range(N_SECONDS)] # generates seconds in increments of 10"
   ]
  },
  {
   "cell_type": "markdown",
   "id": "1d1db127",
   "metadata": {},
   "source": [
    "## Creating Multindex"
   ]
  },
  {
   "cell_type": "code",
   "execution_count": 8,
   "id": "8abf57a3",
   "metadata": {},
   "outputs": [],
   "source": [
    "# generateing all possible combinations of stock IDs, date IDs, and seconds, creating a hierarchical index\n",
    "\n",
    "multi_index = pd.MultiIndex.from_product([all_stock_ids, all_date_ids, all_seconds], \n",
    "                                         names=['stock_id', 'date_id', 'seconds_in_bucket'])"
   ]
  },
  {
   "cell_type": "markdown",
   "id": "bc7d6c26",
   "metadata": {},
   "source": [
    "## Update DataFrame"
   ]
  },
  {
   "cell_type": "code",
   "execution_count": 9,
   "id": "1a203a47",
   "metadata": {},
   "outputs": [
    {
     "name": "stdout",
     "output_type": "stream",
     "text": [
      "target    53108\n",
      "dtype: int64\n"
     ]
    }
   ],
   "source": [
    "df_full = df_train.set_index(['stock_id', 'date_id', 'seconds_in_bucket']).reindex(multi_index) # reindex method is used to align the DataFrame with the new MultiIndex created \n",
    "\n",
    "missing_values_count = df_full.isnull().sum()\n",
    "print(missing_values_count)"
   ]
  },
  {
   "cell_type": "markdown",
   "id": "b21c62b1",
   "metadata": {},
   "source": [
    "## Fixing Null values"
   ]
  },
  {
   "cell_type": "code",
   "execution_count": 10,
   "id": "45eacefb",
   "metadata": {},
   "outputs": [
    {
     "name": "stdout",
     "output_type": "stream",
     "text": [
      "stock_id             0\n",
      "date_id              0\n",
      "seconds_in_bucket    0\n",
      "target               0\n",
      "dtype: int64\n"
     ]
    }
   ],
   "source": [
    "df_full = df_full.fillna(0) # Filling with 0\n",
    "df_full = df_full.reset_index()\n",
    "\n",
    "missing_values_count = df_full.isnull().sum()\n",
    "print(missing_values_count)\n"
   ]
  },
  {
   "cell_type": "markdown",
   "metadata": {},
   "source": [
    "## Assertion Check"
   ]
  },
  {
   "cell_type": "code",
   "execution_count": 11,
   "metadata": {},
   "outputs": [
    {
     "data": {
      "text/html": [
       "<div>\n",
       "<style scoped>\n",
       "    .dataframe tbody tr th:only-of-type {\n",
       "        vertical-align: middle;\n",
       "    }\n",
       "\n",
       "    .dataframe tbody tr th {\n",
       "        vertical-align: top;\n",
       "    }\n",
       "\n",
       "    .dataframe thead th {\n",
       "        text-align: right;\n",
       "    }\n",
       "</style>\n",
       "<table border=\"1\" class=\"dataframe\">\n",
       "  <thead>\n",
       "    <tr style=\"text-align: right;\">\n",
       "      <th></th>\n",
       "      <th>stock_id</th>\n",
       "      <th>date_id</th>\n",
       "      <th>seconds_in_bucket</th>\n",
       "      <th>target</th>\n",
       "    </tr>\n",
       "  </thead>\n",
       "  <tbody>\n",
       "    <tr>\n",
       "      <th>0</th>\n",
       "      <td>0</td>\n",
       "      <td>0</td>\n",
       "      <td>0</td>\n",
       "      <td>-3.029704</td>\n",
       "    </tr>\n",
       "    <tr>\n",
       "      <th>1</th>\n",
       "      <td>0</td>\n",
       "      <td>0</td>\n",
       "      <td>10</td>\n",
       "      <td>0.389814</td>\n",
       "    </tr>\n",
       "    <tr>\n",
       "      <th>2</th>\n",
       "      <td>0</td>\n",
       "      <td>0</td>\n",
       "      <td>20</td>\n",
       "      <td>4.220009</td>\n",
       "    </tr>\n",
       "    <tr>\n",
       "      <th>3</th>\n",
       "      <td>0</td>\n",
       "      <td>0</td>\n",
       "      <td>30</td>\n",
       "      <td>5.450249</td>\n",
       "    </tr>\n",
       "    <tr>\n",
       "      <th>4</th>\n",
       "      <td>0</td>\n",
       "      <td>0</td>\n",
       "      <td>40</td>\n",
       "      <td>3.169775</td>\n",
       "    </tr>\n",
       "    <tr>\n",
       "      <th>...</th>\n",
       "      <td>...</td>\n",
       "      <td>...</td>\n",
       "      <td>...</td>\n",
       "      <td>...</td>\n",
       "    </tr>\n",
       "    <tr>\n",
       "      <th>5290995</th>\n",
       "      <td>199</td>\n",
       "      <td>480</td>\n",
       "      <td>500</td>\n",
       "      <td>-7.209778</td>\n",
       "    </tr>\n",
       "    <tr>\n",
       "      <th>5290996</th>\n",
       "      <td>199</td>\n",
       "      <td>480</td>\n",
       "      <td>510</td>\n",
       "      <td>-9.750128</td>\n",
       "    </tr>\n",
       "    <tr>\n",
       "      <th>5290997</th>\n",
       "      <td>199</td>\n",
       "      <td>480</td>\n",
       "      <td>520</td>\n",
       "      <td>3.629923</td>\n",
       "    </tr>\n",
       "    <tr>\n",
       "      <th>5290998</th>\n",
       "      <td>199</td>\n",
       "      <td>480</td>\n",
       "      <td>530</td>\n",
       "      <td>4.760027</td>\n",
       "    </tr>\n",
       "    <tr>\n",
       "      <th>5290999</th>\n",
       "      <td>199</td>\n",
       "      <td>480</td>\n",
       "      <td>540</td>\n",
       "      <td>-6.530285</td>\n",
       "    </tr>\n",
       "  </tbody>\n",
       "</table>\n",
       "<p>5291000 rows × 4 columns</p>\n",
       "</div>"
      ],
      "text/plain": [
       "         stock_id  date_id  seconds_in_bucket    target\n",
       "0               0        0                  0 -3.029704\n",
       "1               0        0                 10  0.389814\n",
       "2               0        0                 20  4.220009\n",
       "3               0        0                 30  5.450249\n",
       "4               0        0                 40  3.169775\n",
       "...           ...      ...                ...       ...\n",
       "5290995       199      480                500 -7.209778\n",
       "5290996       199      480                510 -9.750128\n",
       "5290997       199      480                520  3.629923\n",
       "5290998       199      480                530  4.760027\n",
       "5290999       199      480                540 -6.530285\n",
       "\n",
       "[5291000 rows x 4 columns]"
      ]
     },
     "execution_count": 11,
     "metadata": {},
     "output_type": "execute_result"
    }
   ],
   "source": [
    "assert(df_full.shape[0] == N_STOCKS * N_DATES * N_SECONDS) # ensures that the resulting DataFrame has the expected number of rows, which should be the product of the specified numbers of stocks, dates, and seconds\n",
    "df_full"
   ]
  },
  {
   "cell_type": "markdown",
   "metadata": {},
   "source": [
    "## Handling missing values in the Data"
   ]
  },
  {
   "cell_type": "code",
   "execution_count": 12,
   "metadata": {},
   "outputs": [
    {
     "data": {
      "image/png": "[encoded data removed]",
      "text/plain": [
       "<Figure size 864x432 with 2 Axes>"
      ]
     },
     "metadata": {
      "needs_background": "light"
     },
     "output_type": "display_data"
    }
   ],
   "source": [
    "selected_columns = ['stock_id', 'date_id', 'seconds_in_bucket', 'target']\n",
    "selected_data = df_full[selected_columns]\n",
    "\n",
    "plt.figure(figsize=(12,6))\n",
    "\n",
    "sns.heatmap(selected_data.corr(), cmap=\"Blues\", annot=True) #Dropping the first column bc it is date \n",
    "plt.title('Correlation Heatmap')\n",
    "plt.show()"
   ]
  },
  {
   "cell_type": "markdown",
   "id": "7e110ce0",
   "metadata": {},
   "source": [
    "## Training the dataset"
   ]
  },
  {
   "cell_type": "code",
   "execution_count": 13,
   "id": "6a2faad8",
   "metadata": {},
   "outputs": [],
   "source": [
    "# Select a percentage of the data to use\n",
    "percentage_to_use = 1\n",
    "\n",
    "sampled_data = df_full.sample(frac=percentage_to_use, random_state=31)\n",
    "\n",
    "y = sampled_data['target'].values\n",
    "x = sampled_data[['stock_id', 'date_id', 'seconds_in_bucket']].values\n",
    "\n",
    "x_train, x_val, y_train, y_val = train_test_split(x, y, test_size=0.2, random_state = SEED) ## The 0.2 is 20% testing"
   ]
  },
  {
   "cell_type": "markdown",
   "id": "b4c0a5fb",
   "metadata": {},
   "source": [
    "## Creating Random Forest Regression Model"
   ]
  },
  {
   "cell_type": "code",
   "execution_count": 17,
   "id": "ecf33b6b",
   "metadata": {},
   "outputs": [
    {
     "name": "stdout",
     "output_type": "stream",
     "text": [
      "Predicted results:  [ 1.88630821 -0.07379056 -6.65142536 ... -0.86526871  4.27641888\n",
      " 10.27853482]\n"
     ]
    }
   ],
   "source": [
    "seed = 221\n",
    "n_dec_trees = 50\n",
    "\n",
    "regressor = RandomForestRegressor(n_estimators=n_dec_trees, random_state=seed)\n",
    "\n",
    "# fit linear regression\n",
    "\n",
    "model = regressor.fit(x_train, y_train)\n",
    "\n",
    "# Use model to make predictions\n",
    "\n",
    "y_train_pred = regressor.predict(x_train)\n",
    "\n",
    "# predicting results\n",
    "print(\"Predicted results: \",y_train_pred)"
   ]
  },
  {
   "cell_type": "code",
   "execution_count": 18,
   "id": "4fd5d7cb",
   "metadata": {},
   "outputs": [
    {
     "data": {
      "text/html": [
       "<div>\n",
       "<style scoped>\n",
       "    .dataframe tbody tr th:only-of-type {\n",
       "        vertical-align: middle;\n",
       "    }\n",
       "\n",
       "    .dataframe tbody tr th {\n",
       "        vertical-align: top;\n",
       "    }\n",
       "\n",
       "    .dataframe thead th {\n",
       "        text-align: right;\n",
       "    }\n",
       "</style>\n",
       "<table border=\"1\" class=\"dataframe\">\n",
       "  <thead>\n",
       "    <tr style=\"text-align: right;\">\n",
       "      <th></th>\n",
       "      <th>Actual</th>\n",
       "      <th>Predicted</th>\n",
       "    </tr>\n",
       "  </thead>\n",
       "  <tbody>\n",
       "    <tr>\n",
       "      <th>0</th>\n",
       "      <td>-1.019835</td>\n",
       "      <td>1.886308</td>\n",
       "    </tr>\n",
       "    <tr>\n",
       "      <th>1</th>\n",
       "      <td>1.610518</td>\n",
       "      <td>-0.073791</td>\n",
       "    </tr>\n",
       "    <tr>\n",
       "      <th>2</th>\n",
       "      <td>-10.510087</td>\n",
       "      <td>-6.651425</td>\n",
       "    </tr>\n",
       "    <tr>\n",
       "      <th>3</th>\n",
       "      <td>1.080036</td>\n",
       "      <td>0.194347</td>\n",
       "    </tr>\n",
       "    <tr>\n",
       "      <th>4</th>\n",
       "      <td>-1.670122</td>\n",
       "      <td>-2.403307</td>\n",
       "    </tr>\n",
       "    <tr>\n",
       "      <th>5</th>\n",
       "      <td>-3.179908</td>\n",
       "      <td>-3.065217</td>\n",
       "    </tr>\n",
       "    <tr>\n",
       "      <th>6</th>\n",
       "      <td>-3.629923</td>\n",
       "      <td>-3.714407</td>\n",
       "    </tr>\n",
       "    <tr>\n",
       "      <th>7</th>\n",
       "      <td>1.200438</td>\n",
       "      <td>2.311528</td>\n",
       "    </tr>\n",
       "    <tr>\n",
       "      <th>8</th>\n",
       "      <td>-4.889965</td>\n",
       "      <td>-4.402339</td>\n",
       "    </tr>\n",
       "    <tr>\n",
       "      <th>9</th>\n",
       "      <td>-1.299977</td>\n",
       "      <td>-1.310563</td>\n",
       "    </tr>\n",
       "    <tr>\n",
       "      <th>10</th>\n",
       "      <td>8.759499</td>\n",
       "      <td>6.962466</td>\n",
       "    </tr>\n",
       "    <tr>\n",
       "      <th>11</th>\n",
       "      <td>10.030270</td>\n",
       "      <td>9.890318</td>\n",
       "    </tr>\n",
       "    <tr>\n",
       "      <th>12</th>\n",
       "      <td>-1.440048</td>\n",
       "      <td>-2.522409</td>\n",
       "    </tr>\n",
       "    <tr>\n",
       "      <th>13</th>\n",
       "      <td>-1.909733</td>\n",
       "      <td>-1.628685</td>\n",
       "    </tr>\n",
       "    <tr>\n",
       "      <th>14</th>\n",
       "      <td>3.299713</td>\n",
       "      <td>1.040637</td>\n",
       "    </tr>\n",
       "    <tr>\n",
       "      <th>15</th>\n",
       "      <td>5.379915</td>\n",
       "      <td>3.650009</td>\n",
       "    </tr>\n",
       "    <tr>\n",
       "      <th>16</th>\n",
       "      <td>-3.029704</td>\n",
       "      <td>-2.124047</td>\n",
       "    </tr>\n",
       "    <tr>\n",
       "      <th>17</th>\n",
       "      <td>-1.950264</td>\n",
       "      <td>-2.917945</td>\n",
       "    </tr>\n",
       "    <tr>\n",
       "      <th>18</th>\n",
       "      <td>-1.839995</td>\n",
       "      <td>-1.614845</td>\n",
       "    </tr>\n",
       "    <tr>\n",
       "      <th>19</th>\n",
       "      <td>-0.699758</td>\n",
       "      <td>-1.776481</td>\n",
       "    </tr>\n",
       "    <tr>\n",
       "      <th>20</th>\n",
       "      <td>10.010004</td>\n",
       "      <td>5.048025</td>\n",
       "    </tr>\n",
       "    <tr>\n",
       "      <th>21</th>\n",
       "      <td>0.699758</td>\n",
       "      <td>0.153041</td>\n",
       "    </tr>\n",
       "    <tr>\n",
       "      <th>22</th>\n",
       "      <td>11.409521</td>\n",
       "      <td>10.156441</td>\n",
       "    </tr>\n",
       "    <tr>\n",
       "      <th>23</th>\n",
       "      <td>10.279417</td>\n",
       "      <td>7.420158</td>\n",
       "    </tr>\n",
       "    <tr>\n",
       "      <th>24</th>\n",
       "      <td>8.319616</td>\n",
       "      <td>8.104730</td>\n",
       "    </tr>\n",
       "  </tbody>\n",
       "</table>\n",
       "</div>"
      ],
      "text/plain": [
       "       Actual  Predicted\n",
       "0   -1.019835   1.886308\n",
       "1    1.610518  -0.073791\n",
       "2  -10.510087  -6.651425\n",
       "3    1.080036   0.194347\n",
       "4   -1.670122  -2.403307\n",
       "5   -3.179908  -3.065217\n",
       "6   -3.629923  -3.714407\n",
       "7    1.200438   2.311528\n",
       "8   -4.889965  -4.402339\n",
       "9   -1.299977  -1.310563\n",
       "10   8.759499   6.962466\n",
       "11  10.030270   9.890318\n",
       "12  -1.440048  -2.522409\n",
       "13  -1.909733  -1.628685\n",
       "14   3.299713   1.040637\n",
       "15   5.379915   3.650009\n",
       "16  -3.029704  -2.124047\n",
       "17  -1.950264  -2.917945\n",
       "18  -1.839995  -1.614845\n",
       "19  -0.699758  -1.776481\n",
       "20  10.010004   5.048025\n",
       "21   0.699758   0.153041\n",
       "22  11.409521  10.156441\n",
       "23  10.279417   7.420158\n",
       "24   8.319616   8.104730"
      ]
     },
     "execution_count": 18,
     "metadata": {},
     "output_type": "execute_result"
    }
   ],
   "source": [
    "dframe = pd.DataFrame({'Actual':y_train.flatten(), 'Predicted':y_train_pred.flatten()}) ## so we are able to see the data better presented below\n",
    "dframe.head(25)"
   ]
  },
  {
   "cell_type": "code",
   "execution_count": 19,
   "id": "85e30412",
   "metadata": {},
   "outputs": [
    {
     "name": "stdout",
     "output_type": "stream",
     "text": [
      "Mean Absolute Error: 1.7180215657814946\n",
      "Mean Squared Error: 6.554552694932057\n",
      "Root Mean Square Error: 2.560186066467056\n"
     ]
    }
   ],
   "source": [
    "print('Mean Absolute Error:', metrics.mean_absolute_error(y_train, y_train_pred))\n",
    "print('Mean Squared Error:', metrics.mean_squared_error(y_train, y_train_pred))\n",
    "print('Root Mean Square Error:', np.sqrt(metrics.mean_squared_error(y_train, y_train_pred)))"
   ]
  },
  {
   "cell_type": "markdown",
   "id": "5ac0a3fc",
   "metadata": {},
   "source": [
    "## Presenting results with graphs"
   ]
  },
  {
   "cell_type": "code",
   "execution_count": 20,
   "id": "3843367d",
   "metadata": {},
   "outputs": [
    {
     "data": {
      "image/png": "[encoded data removed]",
      "text/plain": [
       "<Figure size 576x576 with 1 Axes>"
      ]
     },
     "metadata": {
      "needs_background": "light"
     },
     "output_type": "display_data"
    }
   ],
   "source": [
    "plt.figure(figsize=(8,8))\n",
    "plt.ylabel('Target', fontsize=16)\n",
    "plt.plot(dframe)\n",
    "plt.legend(['Actual Price', 'Predicted Price'])\n",
    "plt.show()"
   ]
  },
  {
   "cell_type": "code",
   "execution_count": 21,
   "id": "5ffa31a1",
   "metadata": {},
   "outputs": [
    {
     "data": {
      "text/plain": [
       "<AxesSubplot:>"
      ]
     },
     "execution_count": 21,
     "metadata": {},
     "output_type": "execute_result"
    },
    {
     "data": {
      "image/png": "[encoded data removed]",
      "text/plain": [
       "<Figure size 432x288 with 1 Axes>"
      ]
     },
     "metadata": {
      "needs_background": "light"
     },
     "output_type": "display_data"
    }
   ],
   "source": [
    "graph = dframe.head(40)\n",
    "graph.plot(kind='bar')"
   ]
  },
  {
   "cell_type": "markdown",
   "id": "dfadf73d",
   "metadata": {},
   "source": [
    "## Grid Search with Cross-Validation"
   ]
  },
  {
   "cell_type": "code",
   "execution_count": 22,
   "id": "c95a95f5",
   "metadata": {},
   "outputs": [
    {
     "name": "stdout",
     "output_type": "stream",
     "text": [
      "Best number of trees:  75\n"
     ]
    }
   ],
   "source": [
    "from sklearn.model_selection import GridSearchCV\n",
    "from sklearn.ensemble import RandomForestRegressor\n",
    "import numpy as np\n",
    "\n",
    "# Assuming y and x are already defined\n",
    "\n",
    "param_grid = {\n",
    "    'n_estimators' : [25, 50, 75]\n",
    "}\n",
    "\n",
    "regressor = RandomForestRegressor(random_state=seed)\n",
    "\n",
    "grid_search = GridSearchCV(estimator=regressor, param_grid=param_grid, cv = 3, scoring='neg_mean_squared_error')\n",
    "grid_search.fit(x_train, y_train)\n",
    "\n",
    "best_n_estimators = grid_search.best_params_['n_estimators']\n",
    "\n",
    "print('Best number of trees: ', best_n_estimators)"
   ]
  },
  {
   "cell_type": "markdown",
   "id": "c814357a",
   "metadata": {},
   "source": [
    "## Train Model with Best Hyperparameter"
   ]
  },
  {
   "cell_type": "code",
   "execution_count": 22,
   "id": "c17be458",
   "metadata": {},
   "outputs": [
    {
     "data": {
      "text/html": [
       "<div>\n",
       "<style scoped>\n",
       "    .dataframe tbody tr th:only-of-type {\n",
       "        vertical-align: middle;\n",
       "    }\n",
       "\n",
       "    .dataframe tbody tr th {\n",
       "        vertical-align: top;\n",
       "    }\n",
       "\n",
       "    .dataframe thead th {\n",
       "        text-align: right;\n",
       "    }\n",
       "</style>\n",
       "<table border=\"1\" class=\"dataframe\">\n",
       "  <thead>\n",
       "    <tr style=\"text-align: right;\">\n",
       "      <th></th>\n",
       "      <th>Actual</th>\n",
       "      <th>Predicted</th>\n",
       "    </tr>\n",
       "  </thead>\n",
       "  <tbody>\n",
       "    <tr>\n",
       "      <th>0</th>\n",
       "      <td>-1.019835</td>\n",
       "      <td>1.886308</td>\n",
       "    </tr>\n",
       "    <tr>\n",
       "      <th>1</th>\n",
       "      <td>1.610518</td>\n",
       "      <td>-0.073791</td>\n",
       "    </tr>\n",
       "    <tr>\n",
       "      <th>2</th>\n",
       "      <td>-10.510087</td>\n",
       "      <td>-6.651425</td>\n",
       "    </tr>\n",
       "    <tr>\n",
       "      <th>3</th>\n",
       "      <td>1.080036</td>\n",
       "      <td>0.194347</td>\n",
       "    </tr>\n",
       "    <tr>\n",
       "      <th>4</th>\n",
       "      <td>-1.670122</td>\n",
       "      <td>-2.403307</td>\n",
       "    </tr>\n",
       "    <tr>\n",
       "      <th>5</th>\n",
       "      <td>-3.179908</td>\n",
       "      <td>-3.065217</td>\n",
       "    </tr>\n",
       "    <tr>\n",
       "      <th>6</th>\n",
       "      <td>-3.629923</td>\n",
       "      <td>-3.714407</td>\n",
       "    </tr>\n",
       "    <tr>\n",
       "      <th>7</th>\n",
       "      <td>1.200438</td>\n",
       "      <td>2.311528</td>\n",
       "    </tr>\n",
       "    <tr>\n",
       "      <th>8</th>\n",
       "      <td>-4.889965</td>\n",
       "      <td>-4.402339</td>\n",
       "    </tr>\n",
       "    <tr>\n",
       "      <th>9</th>\n",
       "      <td>-1.299977</td>\n",
       "      <td>-1.310563</td>\n",
       "    </tr>\n",
       "    <tr>\n",
       "      <th>10</th>\n",
       "      <td>8.759499</td>\n",
       "      <td>6.962466</td>\n",
       "    </tr>\n",
       "    <tr>\n",
       "      <th>11</th>\n",
       "      <td>10.030270</td>\n",
       "      <td>9.890318</td>\n",
       "    </tr>\n",
       "    <tr>\n",
       "      <th>12</th>\n",
       "      <td>-1.440048</td>\n",
       "      <td>-2.522409</td>\n",
       "    </tr>\n",
       "    <tr>\n",
       "      <th>13</th>\n",
       "      <td>-1.909733</td>\n",
       "      <td>-1.628685</td>\n",
       "    </tr>\n",
       "    <tr>\n",
       "      <th>14</th>\n",
       "      <td>3.299713</td>\n",
       "      <td>1.040637</td>\n",
       "    </tr>\n",
       "    <tr>\n",
       "      <th>15</th>\n",
       "      <td>5.379915</td>\n",
       "      <td>3.650009</td>\n",
       "    </tr>\n",
       "    <tr>\n",
       "      <th>16</th>\n",
       "      <td>-3.029704</td>\n",
       "      <td>-2.124047</td>\n",
       "    </tr>\n",
       "    <tr>\n",
       "      <th>17</th>\n",
       "      <td>-1.950264</td>\n",
       "      <td>-2.917945</td>\n",
       "    </tr>\n",
       "    <tr>\n",
       "      <th>18</th>\n",
       "      <td>-1.839995</td>\n",
       "      <td>-1.614845</td>\n",
       "    </tr>\n",
       "    <tr>\n",
       "      <th>19</th>\n",
       "      <td>-0.699758</td>\n",
       "      <td>-1.776481</td>\n",
       "    </tr>\n",
       "    <tr>\n",
       "      <th>20</th>\n",
       "      <td>10.010004</td>\n",
       "      <td>5.048025</td>\n",
       "    </tr>\n",
       "    <tr>\n",
       "      <th>21</th>\n",
       "      <td>0.699758</td>\n",
       "      <td>0.153041</td>\n",
       "    </tr>\n",
       "    <tr>\n",
       "      <th>22</th>\n",
       "      <td>11.409521</td>\n",
       "      <td>10.156441</td>\n",
       "    </tr>\n",
       "    <tr>\n",
       "      <th>23</th>\n",
       "      <td>10.279417</td>\n",
       "      <td>7.420158</td>\n",
       "    </tr>\n",
       "    <tr>\n",
       "      <th>24</th>\n",
       "      <td>8.319616</td>\n",
       "      <td>8.104730</td>\n",
       "    </tr>\n",
       "  </tbody>\n",
       "</table>\n",
       "</div>"
      ],
      "text/plain": [
       "       Actual  Predicted\n",
       "0   -1.019835   1.886308\n",
       "1    1.610518  -0.073791\n",
       "2  -10.510087  -6.651425\n",
       "3    1.080036   0.194347\n",
       "4   -1.670122  -2.403307\n",
       "5   -3.179908  -3.065217\n",
       "6   -3.629923  -3.714407\n",
       "7    1.200438   2.311528\n",
       "8   -4.889965  -4.402339\n",
       "9   -1.299977  -1.310563\n",
       "10   8.759499   6.962466\n",
       "11  10.030270   9.890318\n",
       "12  -1.440048  -2.522409\n",
       "13  -1.909733  -1.628685\n",
       "14   3.299713   1.040637\n",
       "15   5.379915   3.650009\n",
       "16  -3.029704  -2.124047\n",
       "17  -1.950264  -2.917945\n",
       "18  -1.839995  -1.614845\n",
       "19  -0.699758  -1.776481\n",
       "20  10.010004   5.048025\n",
       "21   0.699758   0.153041\n",
       "22  11.409521  10.156441\n",
       "23  10.279417   7.420158\n",
       "24   8.319616   8.104730"
      ]
     },
     "execution_count": 22,
     "metadata": {},
     "output_type": "execute_result"
    }
   ],
   "source": [
    "best_n_estimators = 75\n",
    "\n",
    "final_model = RandomForestRegressor(n_estimators=best_n_estimators, random_state=seed)\n",
    "final_model.fit(x_train, y_train)\n"
   ]
  },
  {
   "cell_type": "markdown",
   "id": "8e2b35fc",
   "metadata": {},
   "source": [
    "## Make Predictions with Training Data"
   ]
  },
  {
   "cell_type": "code",
   "execution_count": 30,
   "id": "7b1ae9ff",
   "metadata": {},
   "outputs": [
    {
     "data": {
      "text/html": [
       "<div>\n",
       "<style scoped>\n",
       "    .dataframe tbody tr th:only-of-type {\n",
       "        vertical-align: middle;\n",
       "    }\n",
       "\n",
       "    .dataframe tbody tr th {\n",
       "        vertical-align: top;\n",
       "    }\n",
       "\n",
       "    .dataframe thead th {\n",
       "        text-align: right;\n",
       "    }\n",
       "</style>\n",
       "<table border=\"1\" class=\"dataframe\">\n",
       "  <thead>\n",
       "    <tr style=\"text-align: right;\">\n",
       "      <th></th>\n",
       "      <th>Actual</th>\n",
       "      <th>Predicted</th>\n",
       "    </tr>\n",
       "  </thead>\n",
       "  <tbody>\n",
       "    <tr>\n",
       "      <th>0</th>\n",
       "      <td>-1.019835</td>\n",
       "      <td>1.886308</td>\n",
       "    </tr>\n",
       "    <tr>\n",
       "      <th>1</th>\n",
       "      <td>1.610518</td>\n",
       "      <td>-0.073791</td>\n",
       "    </tr>\n",
       "    <tr>\n",
       "      <th>2</th>\n",
       "      <td>-10.510087</td>\n",
       "      <td>-6.651425</td>\n",
       "    </tr>\n",
       "    <tr>\n",
       "      <th>3</th>\n",
       "      <td>1.080036</td>\n",
       "      <td>0.194347</td>\n",
       "    </tr>\n",
       "    <tr>\n",
       "      <th>4</th>\n",
       "      <td>-1.670122</td>\n",
       "      <td>-2.403307</td>\n",
       "    </tr>\n",
       "    <tr>\n",
       "      <th>5</th>\n",
       "      <td>-3.179908</td>\n",
       "      <td>-3.065217</td>\n",
       "    </tr>\n",
       "    <tr>\n",
       "      <th>6</th>\n",
       "      <td>-3.629923</td>\n",
       "      <td>-3.714407</td>\n",
       "    </tr>\n",
       "    <tr>\n",
       "      <th>7</th>\n",
       "      <td>1.200438</td>\n",
       "      <td>2.311528</td>\n",
       "    </tr>\n",
       "    <tr>\n",
       "      <th>8</th>\n",
       "      <td>-4.889965</td>\n",
       "      <td>-4.402339</td>\n",
       "    </tr>\n",
       "    <tr>\n",
       "      <th>9</th>\n",
       "      <td>-1.299977</td>\n",
       "      <td>-1.310563</td>\n",
       "    </tr>\n",
       "    <tr>\n",
       "      <th>10</th>\n",
       "      <td>8.759499</td>\n",
       "      <td>6.962466</td>\n",
       "    </tr>\n",
       "    <tr>\n",
       "      <th>11</th>\n",
       "      <td>10.030270</td>\n",
       "      <td>9.890318</td>\n",
       "    </tr>\n",
       "    <tr>\n",
       "      <th>12</th>\n",
       "      <td>-1.440048</td>\n",
       "      <td>-2.522409</td>\n",
       "    </tr>\n",
       "    <tr>\n",
       "      <th>13</th>\n",
       "      <td>-1.909733</td>\n",
       "      <td>-1.628685</td>\n",
       "    </tr>\n",
       "    <tr>\n",
       "      <th>14</th>\n",
       "      <td>3.299713</td>\n",
       "      <td>1.040637</td>\n",
       "    </tr>\n",
       "    <tr>\n",
       "      <th>15</th>\n",
       "      <td>5.379915</td>\n",
       "      <td>3.650009</td>\n",
       "    </tr>\n",
       "    <tr>\n",
       "      <th>16</th>\n",
       "      <td>-3.029704</td>\n",
       "      <td>-2.124047</td>\n",
       "    </tr>\n",
       "    <tr>\n",
       "      <th>17</th>\n",
       "      <td>-1.950264</td>\n",
       "      <td>-2.917945</td>\n",
       "    </tr>\n",
       "    <tr>\n",
       "      <th>18</th>\n",
       "      <td>-1.839995</td>\n",
       "      <td>-1.614845</td>\n",
       "    </tr>\n",
       "    <tr>\n",
       "      <th>19</th>\n",
       "      <td>-0.699758</td>\n",
       "      <td>-1.776481</td>\n",
       "    </tr>\n",
       "    <tr>\n",
       "      <th>20</th>\n",
       "      <td>10.010004</td>\n",
       "      <td>5.048025</td>\n",
       "    </tr>\n",
       "    <tr>\n",
       "      <th>21</th>\n",
       "      <td>0.699758</td>\n",
       "      <td>0.153041</td>\n",
       "    </tr>\n",
       "    <tr>\n",
       "      <th>22</th>\n",
       "      <td>11.409521</td>\n",
       "      <td>10.156441</td>\n",
       "    </tr>\n",
       "    <tr>\n",
       "      <th>23</th>\n",
       "      <td>10.279417</td>\n",
       "      <td>7.420158</td>\n",
       "    </tr>\n",
       "    <tr>\n",
       "      <th>24</th>\n",
       "      <td>8.319616</td>\n",
       "      <td>8.104730</td>\n",
       "    </tr>\n",
       "  </tbody>\n",
       "</table>\n",
       "</div>"
      ],
      "text/plain": [
       "       Actual  Predicted\n",
       "0   -1.019835   1.886308\n",
       "1    1.610518  -0.073791\n",
       "2  -10.510087  -6.651425\n",
       "3    1.080036   0.194347\n",
       "4   -1.670122  -2.403307\n",
       "5   -3.179908  -3.065217\n",
       "6   -3.629923  -3.714407\n",
       "7    1.200438   2.311528\n",
       "8   -4.889965  -4.402339\n",
       "9   -1.299977  -1.310563\n",
       "10   8.759499   6.962466\n",
       "11  10.030270   9.890318\n",
       "12  -1.440048  -2.522409\n",
       "13  -1.909733  -1.628685\n",
       "14   3.299713   1.040637\n",
       "15   5.379915   3.650009\n",
       "16  -3.029704  -2.124047\n",
       "17  -1.950264  -2.917945\n",
       "18  -1.839995  -1.614845\n",
       "19  -0.699758  -1.776481\n",
       "20  10.010004   5.048025\n",
       "21   0.699758   0.153041\n",
       "22  11.409521  10.156441\n",
       "23  10.279417   7.420158\n",
       "24   8.319616   8.104730"
      ]
     },
     "execution_count": 30,
     "metadata": {},
     "output_type": "execute_result"
    }
   ],
   "source": [
    "# Use model to make predictions\n",
    "y_train_pred = regressor.predict(x_train)\n",
    "\n",
    "# Create Data Frame with real Y and predicted Y\n",
    "dframe = pd.DataFrame({'Actual':y_train.flatten(), 'Predicted':y_train_pred.flatten()}) ## so we are able to see the data better presented below\n",
    "dframe.head(25)"
   ]
  },
  {
   "cell_type": "markdown",
   "id": "a0b9cb85",
   "metadata": {},
   "source": [
    "## Calculate MAE, MSE and RMSE of Final Model Training"
   ]
  },
  {
   "cell_type": "code",
   "execution_count": 31,
   "id": "fbf3407d",
   "metadata": {},
   "outputs": [
    {
     "name": "stdout",
     "output_type": "stream",
     "text": [
      "Mean Absolute Error: 1.7180215657814946\n",
      "Mean Squared Error: 6.554552694932057\n",
      "Root Mean Square Error: 2.560186066467056\n"
     ]
    }
   ],
   "source": [
    "print('Mean Absolute Error:', metrics.mean_absolute_error(y_train, y_train_pred))\n",
    "print('Mean Squared Error:', metrics.mean_squared_error(y_train, y_train_pred))\n",
    "print('Root Mean Square Error:', np.sqrt(metrics.mean_squared_error(y_train, y_train_pred)))"
   ]
  },
  {
   "cell_type": "markdown",
   "id": "138906d2",
   "metadata": {},
   "source": [
    "## Present Training Results With Graphs"
   ]
  },
  {
   "cell_type": "code",
   "execution_count": 32,
   "id": "69d26626",
   "metadata": {},
   "outputs": [
    {
     "data": {
      "image/png": "[encoded data removed]",
      "text/plain": [
       "<Figure size 576x576 with 1 Axes>"
      ]
     },
     "metadata": {
      "needs_background": "light"
     },
     "output_type": "display_data"
    }
   ],
   "source": [
    "plt.figure(figsize=(8,8))\n",
    "plt.ylabel('Target', fontsize=16)\n",
    "plt.plot(dframe)\n",
    "plt.legend(['Actual Price', 'Predicted Price'])\n",
    "plt.show()"
   ]
  },
  {
   "cell_type": "code",
   "execution_count": 33,
   "id": "46a0750c",
   "metadata": {},
   "outputs": [
    {
     "data": {
      "image/png": "[encoded data removed]",
      "text/plain": [
       "<Figure size 576x576 with 1 Axes>"
      ]
     },
     "metadata": {
      "needs_background": "light"
     },
     "output_type": "display_data"
    }
   ],
   "source": [
    "plt.figure(figsize=(8,8))\n",
    "plt.ylabel('Target', fontsize=16)\n",
    "plt.plot(dframe.head(40))\n",
    "plt.legend(['Actual Price', 'Predicted Price'])\n",
    "plt.show()"
   ]
  },
  {
   "cell_type": "code",
   "execution_count": 34,
   "id": "128ab528",
   "metadata": {},
   "outputs": [
    {
     "data": {
      "text/plain": [
       "<AxesSubplot:>"
      ]
     },
     "execution_count": 34,
     "metadata": {},
     "output_type": "execute_result"
    },
    {
     "data": {
      "image/png": "[encoded data removed]",
      "text/plain": [
       "<Figure size 432x288 with 1 Axes>"
      ]
     },
     "metadata": {
      "needs_background": "light"
     },
     "output_type": "display_data"
    }
   ],
   "source": [
    "graph = dframe.head(40)\n",
    "graph.plot(kind='bar')"
   ]
  },
  {
   "cell_type": "markdown",
   "id": "2ce1ea68",
   "metadata": {},
   "source": [
    "## Test Model With Test Data"
   ]
  },
  {
   "cell_type": "code",
   "execution_count": 36,
   "id": "b1ed03f6",
   "metadata": {},
   "outputs": [
    {
     "data": {
      "text/html": [
       "<div>\n",
       "<style scoped>\n",
       "    .dataframe tbody tr th:only-of-type {\n",
       "        vertical-align: middle;\n",
       "    }\n",
       "\n",
       "    .dataframe tbody tr th {\n",
       "        vertical-align: top;\n",
       "    }\n",
       "\n",
       "    .dataframe thead th {\n",
       "        text-align: right;\n",
       "    }\n",
       "</style>\n",
       "<table border=\"1\" class=\"dataframe\">\n",
       "  <thead>\n",
       "    <tr style=\"text-align: right;\">\n",
       "      <th></th>\n",
       "      <th>Actual</th>\n",
       "      <th>Predicted</th>\n",
       "    </tr>\n",
       "  </thead>\n",
       "  <tbody>\n",
       "    <tr>\n",
       "      <th>0</th>\n",
       "      <td>5.279779</td>\n",
       "      <td>-3.260040</td>\n",
       "    </tr>\n",
       "    <tr>\n",
       "      <th>1</th>\n",
       "      <td>4.320145</td>\n",
       "      <td>0.140655</td>\n",
       "    </tr>\n",
       "    <tr>\n",
       "      <th>2</th>\n",
       "      <td>7.050037</td>\n",
       "      <td>-1.753140</td>\n",
       "    </tr>\n",
       "    <tr>\n",
       "      <th>3</th>\n",
       "      <td>11.789799</td>\n",
       "      <td>2.174663</td>\n",
       "    </tr>\n",
       "    <tr>\n",
       "      <th>4</th>\n",
       "      <td>-2.229810</td>\n",
       "      <td>8.184028</td>\n",
       "    </tr>\n",
       "    <tr>\n",
       "      <th>5</th>\n",
       "      <td>-5.009770</td>\n",
       "      <td>2.035189</td>\n",
       "    </tr>\n",
       "    <tr>\n",
       "      <th>6</th>\n",
       "      <td>0.779629</td>\n",
       "      <td>5.872727</td>\n",
       "    </tr>\n",
       "    <tr>\n",
       "      <th>7</th>\n",
       "      <td>2.219677</td>\n",
       "      <td>0.264430</td>\n",
       "    </tr>\n",
       "    <tr>\n",
       "      <th>8</th>\n",
       "      <td>-8.360147</td>\n",
       "      <td>-5.414808</td>\n",
       "    </tr>\n",
       "    <tr>\n",
       "      <th>9</th>\n",
       "      <td>-7.150173</td>\n",
       "      <td>-4.692173</td>\n",
       "    </tr>\n",
       "    <tr>\n",
       "      <th>10</th>\n",
       "      <td>-3.020167</td>\n",
       "      <td>1.379573</td>\n",
       "    </tr>\n",
       "    <tr>\n",
       "      <th>11</th>\n",
       "      <td>5.220175</td>\n",
       "      <td>4.592967</td>\n",
       "    </tr>\n",
       "    <tr>\n",
       "      <th>12</th>\n",
       "      <td>5.689859</td>\n",
       "      <td>4.284227</td>\n",
       "    </tr>\n",
       "    <tr>\n",
       "      <th>13</th>\n",
       "      <td>-14.790297</td>\n",
       "      <td>-11.164105</td>\n",
       "    </tr>\n",
       "    <tr>\n",
       "      <th>14</th>\n",
       "      <td>-13.160110</td>\n",
       "      <td>-10.600555</td>\n",
       "    </tr>\n",
       "    <tr>\n",
       "      <th>15</th>\n",
       "      <td>-7.129908</td>\n",
       "      <td>-0.211680</td>\n",
       "    </tr>\n",
       "    <tr>\n",
       "      <th>16</th>\n",
       "      <td>-0.389814</td>\n",
       "      <td>0.956810</td>\n",
       "    </tr>\n",
       "    <tr>\n",
       "      <th>17</th>\n",
       "      <td>-8.249879</td>\n",
       "      <td>-0.097179</td>\n",
       "    </tr>\n",
       "    <tr>\n",
       "      <th>18</th>\n",
       "      <td>21.630526</td>\n",
       "      <td>17.345690</td>\n",
       "    </tr>\n",
       "    <tr>\n",
       "      <th>19</th>\n",
       "      <td>-1.580119</td>\n",
       "      <td>-1.893640</td>\n",
       "    </tr>\n",
       "    <tr>\n",
       "      <th>20</th>\n",
       "      <td>6.070137</td>\n",
       "      <td>8.213484</td>\n",
       "    </tr>\n",
       "    <tr>\n",
       "      <th>21</th>\n",
       "      <td>5.359650</td>\n",
       "      <td>1.869881</td>\n",
       "    </tr>\n",
       "    <tr>\n",
       "      <th>22</th>\n",
       "      <td>-9.899735</td>\n",
       "      <td>-0.711095</td>\n",
       "    </tr>\n",
       "    <tr>\n",
       "      <th>23</th>\n",
       "      <td>5.650520</td>\n",
       "      <td>1.288629</td>\n",
       "    </tr>\n",
       "    <tr>\n",
       "      <th>24</th>\n",
       "      <td>3.969669</td>\n",
       "      <td>1.372969</td>\n",
       "    </tr>\n",
       "  </tbody>\n",
       "</table>\n",
       "</div>"
      ],
      "text/plain": [
       "       Actual  Predicted\n",
       "0    5.279779  -3.260040\n",
       "1    4.320145   0.140655\n",
       "2    7.050037  -1.753140\n",
       "3   11.789799   2.174663\n",
       "4   -2.229810   8.184028\n",
       "5   -5.009770   2.035189\n",
       "6    0.779629   5.872727\n",
       "7    2.219677   0.264430\n",
       "8   -8.360147  -5.414808\n",
       "9   -7.150173  -4.692173\n",
       "10  -3.020167   1.379573\n",
       "11   5.220175   4.592967\n",
       "12   5.689859   4.284227\n",
       "13 -14.790297 -11.164105\n",
       "14 -13.160110 -10.600555\n",
       "15  -7.129908  -0.211680\n",
       "16  -0.389814   0.956810\n",
       "17  -8.249879  -0.097179\n",
       "18  21.630526  17.345690\n",
       "19  -1.580119  -1.893640\n",
       "20   6.070137   8.213484\n",
       "21   5.359650   1.869881\n",
       "22  -9.899735  -0.711095\n",
       "23   5.650520   1.288629\n",
       "24   3.969669   1.372969"
      ]
     },
     "execution_count": 36,
     "metadata": {},
     "output_type": "execute_result"
    }
   ],
   "source": [
    "y_test_pred = regressor.predict(x_val)\n",
    "\n",
    "# Create Data Frame with real Y and predicted Y\n",
    "dframe = pd.DataFrame({'Actual':y_val.flatten(), 'Predicted':y_test_pred.flatten()}) ## so we are able to see the data better presented below\n",
    "dframe.head(25)"
   ]
  },
  {
   "cell_type": "markdown",
   "id": "5a40ff48",
   "metadata": {},
   "source": [
    "## Calculate MAE, MSE and RMSE of Final Model Test"
   ]
  },
  {
   "cell_type": "code",
   "execution_count": 37,
   "id": "b756ee8f",
   "metadata": {},
   "outputs": [
    {
     "name": "stdout",
     "output_type": "stream",
     "text": [
      "Mean Absolute Error: 4.555462932798533\n",
      "Mean Squared Error: 44.56641912956073\n",
      "Root Mean Square Error: 6.675808500066545\n"
     ]
    }
   ],
   "source": [
    "print('Mean Absolute Error:', metrics.mean_absolute_error(y_val, y_test_pred))\n",
    "print('Mean Squared Error:', metrics.mean_squared_error(y_val, y_test_pred))\n",
    "print('Root Mean Square Error:', np.sqrt(metrics.mean_squared_error(y_val, y_test_pred)))"
   ]
  },
  {
   "cell_type": "markdown",
   "id": "bcca9a2e",
   "metadata": {},
   "source": [
    "## Present Test Results With Graphs"
   ]
  },
  {
   "cell_type": "code",
   "execution_count": 38,
   "id": "f1d798e8",
   "metadata": {},
   "outputs": [
    {
     "data": {
      "image/png": "[encoded data removed]",
      "text/plain": [
       "<Figure size 576x576 with 1 Axes>"
      ]
     },
     "metadata": {
      "needs_background": "light"
     },
     "output_type": "display_data"
    }
   ],
   "source": [
    "plt.figure(figsize=(8,8))\n",
    "plt.ylabel('Target', fontsize=16)\n",
    "plt.plot(dframe)\n",
    "plt.legend(['Actual Price', 'Predicted Price'])\n",
    "plt.show()"
   ]
  },
  {
   "cell_type": "code",
   "execution_count": 39,
   "id": "a494693f",
   "metadata": {},
   "outputs": [
    {
     "data": {
      "image/png": "[encoded data removed]",
      "text/plain": [
       "<Figure size 576x576 with 1 Axes>"
      ]
     },
     "metadata": {
      "needs_background": "light"
     },
     "output_type": "display_data"
    }
   ],
   "source": [
    "plt.figure(figsize=(8,8))\n",
    "plt.ylabel('Target', fontsize=16)\n",
    "plt.plot(dframe.head(40))\n",
    "plt.legend(['Actual Price', 'Predicted Price'])\n",
    "plt.show()"
   ]
  },
  {
   "cell_type": "code",
   "execution_count": 40,
   "id": "ef38dad3",
   "metadata": {},
   "outputs": [
    {
     "data": {
      "text/plain": [
       "<AxesSubplot:>"
      ]
     },
     "execution_count": 40,
     "metadata": {},
     "output_type": "execute_result"
    },
    {
     "data": {
      "image/png": "[encoded data removed]",
      "text/plain": [
       "<Figure size 432x288 with 1 Axes>"
      ]
     },
     "metadata": {
      "needs_background": "light"
     },
     "output_type": "display_data"
    }
   ],
   "source": [
    "graph = dframe.head(40)\n",
    "graph.plot(kind='bar')"
   ]
  }
 ],
 "metadata": {
  "kernelspec": {
   "display_name": "Python 3 (ipykernel)",
   "language": "python",
   "name": "python3"
  },
  "language_info": {
   "codemirror_mode": {
    "name": "ipython",
    "version": 3
   },
   "file_extension": ".py",
   "mimetype": "text/x-python",
   "name": "python",
   "nbconvert_exporter": "python",
   "pygments_lexer": "ipython3",
   "version": "3.8.8"
  }
 },
 "nbformat": 4,
 "nbformat_minor": 5
}
